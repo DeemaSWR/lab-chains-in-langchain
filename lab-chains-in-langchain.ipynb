{
 "cells": [
  {
   "cell_type": "markdown",
   "id": "52824b89-532a-4e54-87e9-1410813cd39e",
   "metadata": {},
   "source": [
    "# Lab | Chains in LangChain\n",
    "\n",
    "## Outline\n",
    "\n",
    "* LLMChain\n",
    "* Sequential Chains\n",
    "  * SimpleSequentialChain\n",
    "  * SequentialChain\n",
    "* Router Chain"
   ]
  },
  {
   "cell_type": "code",
   "execution_count": 2,
   "id": "541eb2f1",
   "metadata": {},
   "outputs": [],
   "source": [
    "import warnings\n",
    "warnings.filterwarnings('ignore')"
   ]
  },
  {
   "cell_type": "code",
   "execution_count": 3,
   "id": "b7ed03ed-1322-49e3-b2a2-33e94fb592ef",
   "metadata": {
    "tags": []
   },
   "outputs": [],
   "source": [
    "import os\n",
    "\n",
    "from dotenv import load_dotenv, find_dotenv\n",
    "_ = load_dotenv(find_dotenv())\n",
    "\n",
    "OPENAI_API_KEY  = os.getenv('OPENAI_API_KEY')\n",
    "HUGGINGFACEHUB_API_TOKEN = os.getenv('HUGGINGFACEHUB_API_TOKEN')"
   ]
  },
  {
   "cell_type": "code",
   "execution_count": 5,
   "id": "b84e441b",
   "metadata": {
    "tags": []
   },
   "outputs": [],
   "source": [
    "#!pip install pandas"
   ]
  },
  {
   "cell_type": "code",
   "execution_count": 5,
   "id": "974acf8e-8f88-42de-88f8-40a82cb58e8b",
   "metadata": {
    "tags": []
   },
   "outputs": [],
   "source": [
    "import pandas as pd\n",
    "df = pd.read_csv(\"C:\\\\Users\\\\deept\\\\SDA Bootcamp\\\\Week 7\\\\Data.csv\")"
   ]
  },
  {
   "cell_type": "code",
   "execution_count": 6,
   "id": "b7a09c35",
   "metadata": {
    "tags": []
   },
   "outputs": [
    {
     "data": {
      "text/html": [
       "<div>\n",
       "<style scoped>\n",
       "    .dataframe tbody tr th:only-of-type {\n",
       "        vertical-align: middle;\n",
       "    }\n",
       "\n",
       "    .dataframe tbody tr th {\n",
       "        vertical-align: top;\n",
       "    }\n",
       "\n",
       "    .dataframe thead th {\n",
       "        text-align: right;\n",
       "    }\n",
       "</style>\n",
       "<table border=\"1\" class=\"dataframe\">\n",
       "  <thead>\n",
       "    <tr style=\"text-align: right;\">\n",
       "      <th></th>\n",
       "      <th>Product</th>\n",
       "      <th>Review</th>\n",
       "    </tr>\n",
       "  </thead>\n",
       "  <tbody>\n",
       "    <tr>\n",
       "      <th>0</th>\n",
       "      <td>Queen Size Sheet Set</td>\n",
       "      <td>I ordered a king size set. My only criticism w...</td>\n",
       "    </tr>\n",
       "    <tr>\n",
       "      <th>1</th>\n",
       "      <td>Waterproof Phone Pouch</td>\n",
       "      <td>I loved the waterproof sac, although the openi...</td>\n",
       "    </tr>\n",
       "    <tr>\n",
       "      <th>2</th>\n",
       "      <td>Luxury Air Mattress</td>\n",
       "      <td>This mattress had a small hole in the top of i...</td>\n",
       "    </tr>\n",
       "    <tr>\n",
       "      <th>3</th>\n",
       "      <td>Pillows Insert</td>\n",
       "      <td>This is the best throw pillow fillers on Amazo...</td>\n",
       "    </tr>\n",
       "    <tr>\n",
       "      <th>4</th>\n",
       "      <td>Milk Frother Handheld\\n</td>\n",
       "      <td>I loved this product. But they only seem to l...</td>\n",
       "    </tr>\n",
       "  </tbody>\n",
       "</table>\n",
       "</div>"
      ],
      "text/plain": [
       "                   Product                                             Review\n",
       "0     Queen Size Sheet Set  I ordered a king size set. My only criticism w...\n",
       "1   Waterproof Phone Pouch  I loved the waterproof sac, although the openi...\n",
       "2      Luxury Air Mattress  This mattress had a small hole in the top of i...\n",
       "3           Pillows Insert  This is the best throw pillow fillers on Amazo...\n",
       "4  Milk Frother Handheld\\n   I loved this product. But they only seem to l..."
      ]
     },
     "execution_count": 6,
     "metadata": {},
     "output_type": "execute_result"
    }
   ],
   "source": [
    "df.head()"
   ]
  },
  {
   "cell_type": "markdown",
   "id": "b940ce7c",
   "metadata": {},
   "source": [
    "## LLMChain"
   ]
  },
  {
   "cell_type": "code",
   "execution_count": 7,
   "id": "427e1119",
   "metadata": {},
   "outputs": [
    {
     "name": "stdout",
     "output_type": "stream",
     "text": [
      "Collecting langchain_community\n",
      "  Downloading langchain_community-0.3.21-py3-none-any.whl.metadata (2.4 kB)\n",
      "Collecting langchain-core<1.0.0,>=0.3.51 (from langchain_community)\n",
      "  Downloading langchain_core-0.3.54-py3-none-any.whl.metadata (5.9 kB)\n",
      "Collecting langchain<1.0.0,>=0.3.23 (from langchain_community)\n",
      "  Downloading langchain-0.3.23-py3-none-any.whl.metadata (7.8 kB)\n",
      "Collecting SQLAlchemy<3,>=1.4 (from langchain_community)\n",
      "  Downloading sqlalchemy-2.0.40-cp311-cp311-win_amd64.whl.metadata (9.9 kB)\n",
      "Requirement already satisfied: requests<3,>=2 in c:\\users\\deept\\anaconda3\\envs\\ironhackcamp\\lib\\site-packages (from langchain_community) (2.32.3)\n",
      "Requirement already satisfied: PyYAML>=5.3 in c:\\users\\deept\\anaconda3\\envs\\ironhackcamp\\lib\\site-packages (from langchain_community) (6.0.2)\n",
      "Collecting aiohttp<4.0.0,>=3.8.3 (from langchain_community)\n",
      "  Downloading aiohttp-3.11.17-cp311-cp311-win_amd64.whl.metadata (8.0 kB)\n",
      "Requirement already satisfied: tenacity!=8.4.0,<10,>=8.1.0 in c:\\users\\deept\\anaconda3\\envs\\ironhackcamp\\lib\\site-packages (from langchain_community) (9.0.0)\n",
      "Collecting dataclasses-json<0.7,>=0.5.7 (from langchain_community)\n",
      "  Downloading dataclasses_json-0.6.7-py3-none-any.whl.metadata (25 kB)\n",
      "Collecting pydantic-settings<3.0.0,>=2.4.0 (from langchain_community)\n",
      "  Downloading pydantic_settings-2.9.1-py3-none-any.whl.metadata (3.8 kB)\n",
      "Collecting langsmith<0.4,>=0.1.125 (from langchain_community)\n",
      "  Downloading langsmith-0.3.32-py3-none-any.whl.metadata (15 kB)\n",
      "Collecting httpx-sse<1.0.0,>=0.4.0 (from langchain_community)\n",
      "  Downloading httpx_sse-0.4.0-py3-none-any.whl.metadata (9.0 kB)\n",
      "Requirement already satisfied: numpy<3,>=1.26.2 in c:\\users\\deept\\anaconda3\\envs\\ironhackcamp\\lib\\site-packages (from langchain_community) (1.26.4)\n",
      "Collecting aiohappyeyeballs>=2.3.0 (from aiohttp<4.0.0,>=3.8.3->langchain_community)\n",
      "  Downloading aiohappyeyeballs-2.6.1-py3-none-any.whl.metadata (5.9 kB)\n",
      "Collecting aiosignal>=1.1.2 (from aiohttp<4.0.0,>=3.8.3->langchain_community)\n",
      "  Downloading aiosignal-1.3.2-py2.py3-none-any.whl.metadata (3.8 kB)\n",
      "Requirement already satisfied: attrs>=17.3.0 in c:\\users\\deept\\appdata\\roaming\\python\\python311\\site-packages (from aiohttp<4.0.0,>=3.8.3->langchain_community) (23.1.0)\n",
      "Collecting frozenlist>=1.1.1 (from aiohttp<4.0.0,>=3.8.3->langchain_community)\n",
      "  Downloading frozenlist-1.6.0-cp311-cp311-win_amd64.whl.metadata (16 kB)\n",
      "Collecting multidict<7.0,>=4.5 (from aiohttp<4.0.0,>=3.8.3->langchain_community)\n",
      "  Downloading multidict-6.4.3-cp311-cp311-win_amd64.whl.metadata (5.5 kB)\n",
      "Collecting propcache>=0.2.0 (from aiohttp<4.0.0,>=3.8.3->langchain_community)\n",
      "  Downloading propcache-0.3.1-cp311-cp311-win_amd64.whl.metadata (11 kB)\n",
      "Collecting yarl<2.0,>=1.17.0 (from aiohttp<4.0.0,>=3.8.3->langchain_community)\n",
      "  Downloading yarl-1.20.0-cp311-cp311-win_amd64.whl.metadata (74 kB)\n",
      "Collecting marshmallow<4.0.0,>=3.18.0 (from dataclasses-json<0.7,>=0.5.7->langchain_community)\n",
      "  Downloading marshmallow-3.26.1-py3-none-any.whl.metadata (7.3 kB)\n",
      "Collecting typing-inspect<1,>=0.4.0 (from dataclasses-json<0.7,>=0.5.7->langchain_community)\n",
      "  Downloading typing_inspect-0.9.0-py3-none-any.whl.metadata (1.5 kB)\n",
      "Collecting langchain-text-splitters<1.0.0,>=0.3.8 (from langchain<1.0.0,>=0.3.23->langchain_community)\n",
      "  Downloading langchain_text_splitters-0.3.8-py3-none-any.whl.metadata (1.9 kB)\n",
      "Requirement already satisfied: pydantic<3.0.0,>=2.7.4 in c:\\users\\deept\\anaconda3\\envs\\ironhackcamp\\lib\\site-packages (from langchain<1.0.0,>=0.3.23->langchain_community) (2.10.6)\n",
      "Collecting jsonpatch<2.0,>=1.33 (from langchain-core<1.0.0,>=0.3.51->langchain_community)\n",
      "  Downloading jsonpatch-1.33-py2.py3-none-any.whl.metadata (3.0 kB)\n",
      "Requirement already satisfied: packaging<25,>=23.2 in c:\\users\\deept\\anaconda3\\envs\\ironhackcamp\\lib\\site-packages (from langchain-core<1.0.0,>=0.3.51->langchain_community) (24.2)\n",
      "Requirement already satisfied: typing-extensions>=4.7 in c:\\users\\deept\\anaconda3\\envs\\ironhackcamp\\lib\\site-packages (from langchain-core<1.0.0,>=0.3.51->langchain_community) (4.12.2)\n",
      "Requirement already satisfied: httpx<1,>=0.23.0 in c:\\users\\deept\\anaconda3\\envs\\ironhackcamp\\lib\\site-packages (from langsmith<0.4,>=0.1.125->langchain_community) (0.27.0)\n",
      "Collecting orjson<4.0.0,>=3.9.14 (from langsmith<0.4,>=0.1.125->langchain_community)\n",
      "  Downloading orjson-3.10.16-cp311-cp311-win_amd64.whl.metadata (42 kB)\n",
      "Collecting requests-toolbelt<2.0.0,>=1.0.0 (from langsmith<0.4,>=0.1.125->langchain_community)\n",
      "  Downloading requests_toolbelt-1.0.0-py2.py3-none-any.whl.metadata (14 kB)\n",
      "Collecting zstandard<0.24.0,>=0.23.0 (from langsmith<0.4,>=0.1.125->langchain_community)\n",
      "  Downloading zstandard-0.23.0-cp311-cp311-win_amd64.whl.metadata (3.0 kB)\n",
      "Requirement already satisfied: python-dotenv>=0.21.0 in c:\\users\\deept\\anaconda3\\envs\\ironhackcamp\\lib\\site-packages (from pydantic-settings<3.0.0,>=2.4.0->langchain_community) (1.0.1)\n",
      "Collecting typing-inspection>=0.4.0 (from pydantic-settings<3.0.0,>=2.4.0->langchain_community)\n",
      "  Downloading typing_inspection-0.4.0-py3-none-any.whl.metadata (2.6 kB)\n",
      "Requirement already satisfied: charset-normalizer<4,>=2 in c:\\users\\deept\\anaconda3\\envs\\ironhackcamp\\lib\\site-packages (from requests<3,>=2->langchain_community) (3.3.2)\n",
      "Requirement already satisfied: idna<4,>=2.5 in c:\\users\\deept\\appdata\\roaming\\python\\python311\\site-packages (from requests<3,>=2->langchain_community) (3.4)\n",
      "Requirement already satisfied: urllib3<3,>=1.21.1 in c:\\users\\deept\\appdata\\roaming\\python\\python311\\site-packages (from requests<3,>=2->langchain_community) (2.0.7)\n",
      "Requirement already satisfied: certifi>=2017.4.17 in c:\\users\\deept\\appdata\\roaming\\python\\python311\\site-packages (from requests<3,>=2->langchain_community) (2023.7.22)\n",
      "Collecting greenlet>=1 (from SQLAlchemy<3,>=1.4->langchain_community)\n",
      "  Downloading greenlet-3.2.0-cp311-cp311-win_amd64.whl.metadata (4.2 kB)\n",
      "Requirement already satisfied: anyio in c:\\users\\deept\\anaconda3\\envs\\ironhackcamp\\lib\\site-packages (from httpx<1,>=0.23.0->langsmith<0.4,>=0.1.125->langchain_community) (4.6.2)\n",
      "Requirement already satisfied: httpcore==1.* in c:\\users\\deept\\anaconda3\\envs\\ironhackcamp\\lib\\site-packages (from httpx<1,>=0.23.0->langsmith<0.4,>=0.1.125->langchain_community) (1.0.2)\n",
      "Requirement already satisfied: sniffio in c:\\users\\deept\\appdata\\roaming\\python\\python311\\site-packages (from httpx<1,>=0.23.0->langsmith<0.4,>=0.1.125->langchain_community) (1.3.0)\n",
      "Requirement already satisfied: h11<0.15,>=0.13 in c:\\users\\deept\\appdata\\roaming\\python\\python311\\site-packages (from httpcore==1.*->httpx<1,>=0.23.0->langsmith<0.4,>=0.1.125->langchain_community) (0.14.0)\n",
      "Requirement already satisfied: jsonpointer>=1.9 in c:\\users\\deept\\anaconda3\\envs\\ironhackcamp\\lib\\site-packages (from jsonpatch<2.0,>=1.33->langchain-core<1.0.0,>=0.3.51->langchain_community) (3.0.0)\n",
      "Requirement already satisfied: annotated-types>=0.6.0 in c:\\users\\deept\\anaconda3\\envs\\ironhackcamp\\lib\\site-packages (from pydantic<3.0.0,>=2.7.4->langchain<1.0.0,>=0.3.23->langchain_community) (0.7.0)\n",
      "Requirement already satisfied: pydantic-core==2.27.2 in c:\\users\\deept\\anaconda3\\envs\\ironhackcamp\\lib\\site-packages (from pydantic<3.0.0,>=2.7.4->langchain<1.0.0,>=0.3.23->langchain_community) (2.27.2)\n",
      "Collecting mypy-extensions>=0.3.0 (from typing-inspect<1,>=0.4.0->dataclasses-json<0.7,>=0.5.7->langchain_community)\n",
      "  Downloading mypy_extensions-1.0.0-py3-none-any.whl.metadata (1.1 kB)\n",
      "Downloading langchain_community-0.3.21-py3-none-any.whl (2.5 MB)\n",
      "   ---------------------------------------- 0.0/2.5 MB ? eta -:--:--\n",
      "   ---------------------------------------- 2.5/2.5 MB 14.5 MB/s eta 0:00:00\n",
      "Downloading aiohttp-3.11.17-cp311-cp311-win_amd64.whl (443 kB)\n",
      "Downloading dataclasses_json-0.6.7-py3-none-any.whl (28 kB)\n",
      "Downloading httpx_sse-0.4.0-py3-none-any.whl (7.8 kB)\n",
      "Downloading langchain-0.3.23-py3-none-any.whl (1.0 MB)\n",
      "   ---------------------------------------- 0.0/1.0 MB ? eta -:--:--\n",
      "   ---------------------------------------- 1.0/1.0 MB 15.9 MB/s eta 0:00:00\n",
      "Downloading langchain_core-0.3.54-py3-none-any.whl (433 kB)\n",
      "Downloading langsmith-0.3.32-py3-none-any.whl (358 kB)\n",
      "Downloading pydantic_settings-2.9.1-py3-none-any.whl (44 kB)\n",
      "Downloading sqlalchemy-2.0.40-cp311-cp311-win_amd64.whl (2.1 MB)\n",
      "   ---------------------------------------- 0.0/2.1 MB ? eta -:--:--\n",
      "   ---------------------------------------- 2.1/2.1 MB 23.7 MB/s eta 0:00:00\n",
      "Downloading aiohappyeyeballs-2.6.1-py3-none-any.whl (15 kB)\n",
      "Downloading aiosignal-1.3.2-py2.py3-none-any.whl (7.6 kB)\n",
      "Downloading frozenlist-1.6.0-cp311-cp311-win_amd64.whl (120 kB)\n",
      "Downloading greenlet-3.2.0-cp311-cp311-win_amd64.whl (295 kB)\n",
      "Downloading jsonpatch-1.33-py2.py3-none-any.whl (12 kB)\n",
      "Downloading langchain_text_splitters-0.3.8-py3-none-any.whl (32 kB)\n",
      "Downloading marshmallow-3.26.1-py3-none-any.whl (50 kB)\n",
      "Downloading multidict-6.4.3-cp311-cp311-win_amd64.whl (38 kB)\n",
      "Downloading orjson-3.10.16-cp311-cp311-win_amd64.whl (133 kB)\n",
      "Downloading propcache-0.3.1-cp311-cp311-win_amd64.whl (45 kB)\n",
      "Downloading requests_toolbelt-1.0.0-py2.py3-none-any.whl (54 kB)\n",
      "Downloading typing_inspect-0.9.0-py3-none-any.whl (8.8 kB)\n",
      "Downloading typing_inspection-0.4.0-py3-none-any.whl (14 kB)\n",
      "Downloading yarl-1.20.0-cp311-cp311-win_amd64.whl (93 kB)\n",
      "Downloading zstandard-0.23.0-cp311-cp311-win_amd64.whl (495 kB)\n",
      "Downloading mypy_extensions-1.0.0-py3-none-any.whl (4.7 kB)\n",
      "Installing collected packages: zstandard, typing-inspection, propcache, orjson, mypy-extensions, multidict, marshmallow, jsonpatch, httpx-sse, greenlet, frozenlist, aiohappyeyeballs, yarl, typing-inspect, SQLAlchemy, requests-toolbelt, aiosignal, pydantic-settings, langsmith, dataclasses-json, aiohttp, langchain-core, langchain-text-splitters, langchain, langchain_community\n",
      "Successfully installed SQLAlchemy-2.0.40 aiohappyeyeballs-2.6.1 aiohttp-3.11.17 aiosignal-1.3.2 dataclasses-json-0.6.7 frozenlist-1.6.0 greenlet-3.2.0 httpx-sse-0.4.0 jsonpatch-1.33 langchain-0.3.23 langchain-core-0.3.54 langchain-text-splitters-0.3.8 langchain_community-0.3.21 langsmith-0.3.32 marshmallow-3.26.1 multidict-6.4.3 mypy-extensions-1.0.0 orjson-3.10.16 propcache-0.3.1 pydantic-settings-2.9.1 requests-toolbelt-1.0.0 typing-inspect-0.9.0 typing-inspection-0.4.0 yarl-1.20.0 zstandard-0.23.0\n"
     ]
    },
    {
     "name": "stderr",
     "output_type": "stream",
     "text": [
      "WARNING: Ignoring invalid distribution ~ensorflow (C:\\Users\\deept\\anaconda3\\envs\\IronhackCamp\\Lib\\site-packages)\n",
      "WARNING: Ignoring invalid distribution ~ensorflow (C:\\Users\\deept\\anaconda3\\envs\\IronhackCamp\\Lib\\site-packages)\n",
      "WARNING: Ignoring invalid distribution ~ensorflow (C:\\Users\\deept\\anaconda3\\envs\\IronhackCamp\\Lib\\site-packages)\n"
     ]
    }
   ],
   "source": [
    "!pip install langchain_community"
   ]
  },
  {
   "cell_type": "code",
   "execution_count": 9,
   "id": "4cd93577",
   "metadata": {},
   "outputs": [
    {
     "name": "stdout",
     "output_type": "stream",
     "text": [
      "Requirement already satisfied: langchain in c:\\users\\deept\\anaconda3\\envs\\ironhackcamp\\lib\\site-packages (0.3.23)\n",
      "Collecting langchain-openai\n",
      "  Downloading langchain_openai-0.3.14-py3-none-any.whl.metadata (2.3 kB)\n",
      "Requirement already satisfied: langchain-core<1.0.0,>=0.3.51 in c:\\users\\deept\\anaconda3\\envs\\ironhackcamp\\lib\\site-packages (from langchain) (0.3.54)\n",
      "Requirement already satisfied: langchain-text-splitters<1.0.0,>=0.3.8 in c:\\users\\deept\\anaconda3\\envs\\ironhackcamp\\lib\\site-packages (from langchain) (0.3.8)\n",
      "Requirement already satisfied: langsmith<0.4,>=0.1.17 in c:\\users\\deept\\anaconda3\\envs\\ironhackcamp\\lib\\site-packages (from langchain) (0.3.32)\n",
      "Requirement already satisfied: pydantic<3.0.0,>=2.7.4 in c:\\users\\deept\\anaconda3\\envs\\ironhackcamp\\lib\\site-packages (from langchain) (2.10.6)\n",
      "Requirement already satisfied: SQLAlchemy<3,>=1.4 in c:\\users\\deept\\anaconda3\\envs\\ironhackcamp\\lib\\site-packages (from langchain) (2.0.40)\n",
      "Requirement already satisfied: requests<3,>=2 in c:\\users\\deept\\anaconda3\\envs\\ironhackcamp\\lib\\site-packages (from langchain) (2.32.3)\n",
      "Requirement already satisfied: PyYAML>=5.3 in c:\\users\\deept\\anaconda3\\envs\\ironhackcamp\\lib\\site-packages (from langchain) (6.0.2)\n",
      "Collecting openai<2.0.0,>=1.68.2 (from langchain-openai)\n",
      "  Downloading openai-1.75.0-py3-none-any.whl.metadata (25 kB)\n",
      "Collecting tiktoken<1,>=0.7 (from langchain-openai)\n",
      "  Downloading tiktoken-0.9.0-cp311-cp311-win_amd64.whl.metadata (6.8 kB)\n",
      "Requirement already satisfied: tenacity!=8.4.0,<10.0.0,>=8.1.0 in c:\\users\\deept\\anaconda3\\envs\\ironhackcamp\\lib\\site-packages (from langchain-core<1.0.0,>=0.3.51->langchain) (9.0.0)\n",
      "Requirement already satisfied: jsonpatch<2.0,>=1.33 in c:\\users\\deept\\anaconda3\\envs\\ironhackcamp\\lib\\site-packages (from langchain-core<1.0.0,>=0.3.51->langchain) (1.33)\n",
      "Requirement already satisfied: packaging<25,>=23.2 in c:\\users\\deept\\anaconda3\\envs\\ironhackcamp\\lib\\site-packages (from langchain-core<1.0.0,>=0.3.51->langchain) (24.2)\n",
      "Requirement already satisfied: typing-extensions>=4.7 in c:\\users\\deept\\anaconda3\\envs\\ironhackcamp\\lib\\site-packages (from langchain-core<1.0.0,>=0.3.51->langchain) (4.12.2)\n",
      "Requirement already satisfied: httpx<1,>=0.23.0 in c:\\users\\deept\\anaconda3\\envs\\ironhackcamp\\lib\\site-packages (from langsmith<0.4,>=0.1.17->langchain) (0.27.0)\n",
      "Requirement already satisfied: orjson<4.0.0,>=3.9.14 in c:\\users\\deept\\anaconda3\\envs\\ironhackcamp\\lib\\site-packages (from langsmith<0.4,>=0.1.17->langchain) (3.10.16)\n",
      "Requirement already satisfied: requests-toolbelt<2.0.0,>=1.0.0 in c:\\users\\deept\\anaconda3\\envs\\ironhackcamp\\lib\\site-packages (from langsmith<0.4,>=0.1.17->langchain) (1.0.0)\n",
      "Requirement already satisfied: zstandard<0.24.0,>=0.23.0 in c:\\users\\deept\\anaconda3\\envs\\ironhackcamp\\lib\\site-packages (from langsmith<0.4,>=0.1.17->langchain) (0.23.0)\n",
      "Requirement already satisfied: anyio<5,>=3.5.0 in c:\\users\\deept\\anaconda3\\envs\\ironhackcamp\\lib\\site-packages (from openai<2.0.0,>=1.68.2->langchain-openai) (4.6.2)\n",
      "Requirement already satisfied: distro<2,>=1.7.0 in c:\\users\\deept\\anaconda3\\envs\\ironhackcamp\\lib\\site-packages (from openai<2.0.0,>=1.68.2->langchain-openai) (1.9.0)\n",
      "Requirement already satisfied: jiter<1,>=0.4.0 in c:\\users\\deept\\anaconda3\\envs\\ironhackcamp\\lib\\site-packages (from openai<2.0.0,>=1.68.2->langchain-openai) (0.9.0)\n",
      "Requirement already satisfied: sniffio in c:\\users\\deept\\appdata\\roaming\\python\\python311\\site-packages (from openai<2.0.0,>=1.68.2->langchain-openai) (1.3.0)\n",
      "Requirement already satisfied: tqdm>4 in c:\\users\\deept\\anaconda3\\envs\\ironhackcamp\\lib\\site-packages (from openai<2.0.0,>=1.68.2->langchain-openai) (4.67.1)\n",
      "Requirement already satisfied: annotated-types>=0.6.0 in c:\\users\\deept\\anaconda3\\envs\\ironhackcamp\\lib\\site-packages (from pydantic<3.0.0,>=2.7.4->langchain) (0.7.0)\n",
      "Requirement already satisfied: pydantic-core==2.27.2 in c:\\users\\deept\\anaconda3\\envs\\ironhackcamp\\lib\\site-packages (from pydantic<3.0.0,>=2.7.4->langchain) (2.27.2)\n",
      "Requirement already satisfied: charset-normalizer<4,>=2 in c:\\users\\deept\\anaconda3\\envs\\ironhackcamp\\lib\\site-packages (from requests<3,>=2->langchain) (3.3.2)\n",
      "Requirement already satisfied: idna<4,>=2.5 in c:\\users\\deept\\appdata\\roaming\\python\\python311\\site-packages (from requests<3,>=2->langchain) (3.4)\n",
      "Requirement already satisfied: urllib3<3,>=1.21.1 in c:\\users\\deept\\appdata\\roaming\\python\\python311\\site-packages (from requests<3,>=2->langchain) (2.0.7)\n",
      "Requirement already satisfied: certifi>=2017.4.17 in c:\\users\\deept\\appdata\\roaming\\python\\python311\\site-packages (from requests<3,>=2->langchain) (2023.7.22)\n",
      "Requirement already satisfied: greenlet>=1 in c:\\users\\deept\\anaconda3\\envs\\ironhackcamp\\lib\\site-packages (from SQLAlchemy<3,>=1.4->langchain) (3.2.0)\n",
      "Requirement already satisfied: regex>=2022.1.18 in c:\\users\\deept\\anaconda3\\envs\\ironhackcamp\\lib\\site-packages (from tiktoken<1,>=0.7->langchain-openai) (2024.11.6)\n",
      "Requirement already satisfied: httpcore==1.* in c:\\users\\deept\\anaconda3\\envs\\ironhackcamp\\lib\\site-packages (from httpx<1,>=0.23.0->langsmith<0.4,>=0.1.17->langchain) (1.0.2)\n",
      "Requirement already satisfied: h11<0.15,>=0.13 in c:\\users\\deept\\appdata\\roaming\\python\\python311\\site-packages (from httpcore==1.*->httpx<1,>=0.23.0->langsmith<0.4,>=0.1.17->langchain) (0.14.0)\n",
      "Requirement already satisfied: jsonpointer>=1.9 in c:\\users\\deept\\anaconda3\\envs\\ironhackcamp\\lib\\site-packages (from jsonpatch<2.0,>=1.33->langchain-core<1.0.0,>=0.3.51->langchain) (3.0.0)\n",
      "Requirement already satisfied: colorama in c:\\users\\deept\\anaconda3\\envs\\ironhackcamp\\lib\\site-packages (from tqdm>4->openai<2.0.0,>=1.68.2->langchain-openai) (0.4.6)\n",
      "Downloading langchain_openai-0.3.14-py3-none-any.whl (62 kB)\n",
      "Downloading openai-1.75.0-py3-none-any.whl (646 kB)\n",
      "   ---------------------------------------- 0.0/647.0 kB ? eta -:--:--\n",
      "   -------------------------------- ------- 524.3/647.0 kB 3.4 MB/s eta 0:00:01\n",
      "   ---------------------------------------- 647.0/647.0 kB 3.1 MB/s eta 0:00:00\n",
      "Downloading tiktoken-0.9.0-cp311-cp311-win_amd64.whl (893 kB)\n",
      "   ---------------------------------------- 0.0/893.9 kB ? eta -:--:--\n",
      "   ----------------------------------- ---- 786.4/893.9 kB 8.3 MB/s eta 0:00:01\n",
      "   ---------------------------------------- 893.9/893.9 kB 2.9 MB/s eta 0:00:00\n",
      "Installing collected packages: tiktoken, openai, langchain-openai\n",
      "  Attempting uninstall: openai\n",
      "    Found existing installation: openai 1.66.3\n",
      "    Uninstalling openai-1.66.3:\n",
      "      Successfully uninstalled openai-1.66.3\n",
      "Successfully installed langchain-openai-0.3.14 openai-1.75.0 tiktoken-0.9.0\n",
      "Note: you may need to restart the kernel to use updated packages.\n"
     ]
    },
    {
     "name": "stderr",
     "output_type": "stream",
     "text": [
      "WARNING: Ignoring invalid distribution ~ensorflow (c:\\Users\\deept\\anaconda3\\envs\\IronhackCamp\\Lib\\site-packages)\n",
      "WARNING: Ignoring invalid distribution ~ensorflow (c:\\Users\\deept\\anaconda3\\envs\\IronhackCamp\\Lib\\site-packages)\n",
      "WARNING: Ignoring invalid distribution ~ensorflow (c:\\Users\\deept\\anaconda3\\envs\\IronhackCamp\\Lib\\site-packages)\n"
     ]
    }
   ],
   "source": [
    "pip install langchain langchain-openai"
   ]
  },
  {
   "cell_type": "code",
   "execution_count": 10,
   "id": "e92dff22",
   "metadata": {
    "tags": []
   },
   "outputs": [],
   "source": [
    "from langchain_openai import ChatOpenAI\n",
    "from langchain.prompts import ChatPromptTemplate\n",
    "from langchain.chains import LLMChain"
   ]
  },
  {
   "cell_type": "code",
   "execution_count": 11,
   "id": "943237a7",
   "metadata": {},
   "outputs": [],
   "source": [
    "#Replace None by your own value and justify\n",
    "llm = ChatOpenAI(temperature=None)\n"
   ]
  },
  {
   "cell_type": "code",
   "execution_count": 12,
   "id": "cdcdb42d",
   "metadata": {},
   "outputs": [],
   "source": [
    "prompt = ChatPromptTemplate.from_template(\n",
    "    \"What makes the product '{product}' stand out compared to similar items on the market?\"\n",
    ")\n"
   ]
  },
  {
   "cell_type": "code",
   "execution_count": 13,
   "id": "d7abc20b",
   "metadata": {},
   "outputs": [
    {
     "name": "stderr",
     "output_type": "stream",
     "text": [
      "C:\\Users\\deept\\AppData\\Local\\Temp\\ipykernel_15356\\546483037.py:1: LangChainDeprecationWarning: The class `LLMChain` was deprecated in LangChain 0.1.17 and will be removed in 1.0. Use :meth:`~RunnableSequence, e.g., `prompt | llm`` instead.\n",
      "  chain = LLMChain(llm=llm, prompt=prompt)\n"
     ]
    }
   ],
   "source": [
    "\n",
    "chain = LLMChain(llm=llm, prompt=prompt)"
   ]
  },
  {
   "cell_type": "code",
   "execution_count": 21,
   "id": "ad44d1fb",
   "metadata": {},
   "outputs": [
    {
     "data": {
      "text/plain": [
       "\"The Dyson V15 Cordless Vacuum Cleaner stands out from similar items on the market for several reasons:\\n\\n1. Laser dust detection: The Dyson V15 features a laser dust detection system that illuminates dust particles on the floor, allowing users to easily spot and clean even the smallest particles.\\n\\n2. High suction power: The Dyson V15 is equipped with Dyson's powerful digital motor V15 that provides strong suction power to effectively clean all types of surfaces, including carpets, hardwood floors, and upholstery.\\n\\n3. Intelligent cleaning modes: The vacuum cleaner features three cleaning modes (auto, eco, and boost) that automatically adjust the suction power based on the type of surface being cleaned, ensuring efficient cleaning and optimal battery performance.\\n\\n4. Advanced filtration system: The Dyson V15 is equipped with a whole-machine filtration system that captures 99.97% of particles as small as 0.3 microns, including dust, allergens, and pet dander, ensuring cleaner air in the home.\\n\\n5. Cordless and lightweight design: The Dyson V15 is cordless and lightweight, making it easy to maneuver around the home and reach tight spaces. The vacuum cleaner also features a convenient docking station for easy storage and charging.\\n\\nOverall, the Dyson V15 Cordless Vacuum Cleaner offers a combination of innovative technology, high suction power, advanced filtration, and user-friendly design that sets it apart from other similar items on the market.\""
      ]
     },
     "execution_count": 21,
     "metadata": {},
     "output_type": "execute_result"
    }
   ],
   "source": [
    "product = \"Dyson V15 Cordless Vacuum Cleaner\"\n",
    "chain.run(product)"
   ]
  },
  {
   "cell_type": "markdown",
   "id": "69b03469",
   "metadata": {},
   "source": [
    "## SimpleSequentialChain"
   ]
  },
  {
   "cell_type": "code",
   "execution_count": 15,
   "id": "febee243",
   "metadata": {},
   "outputs": [],
   "source": [
    "from langchain.chains import SimpleSequentialChain"
   ]
  },
  {
   "cell_type": "code",
   "execution_count": 22,
   "id": "2f31aa8a",
   "metadata": {},
   "outputs": [],
   "source": [
    "llm = ChatOpenAI(temperature=0.9)\n",
    "\n",
    "# prompt template 1\n",
    "first_prompt = ChatPromptTemplate.from_template(\n",
    "    \"Write a catchy tagline for the product: {product}\"\n",
    ")\n",
    "\n",
    "# Chain 1\n",
    "chain_one = LLMChain(llm=llm, prompt=first_prompt)"
   ]
  },
  {
   "cell_type": "code",
   "execution_count": 23,
   "id": "3f5d5b76",
   "metadata": {},
   "outputs": [],
   "source": [
    "\n",
    "# prompt template 2\n",
    "second_prompt = ChatPromptTemplate.from_template(\n",
    "    \"Expand the following product tagline into a full product description:\\n\\n{tagline}\"\n",
    ")\n",
    "# chain 2\n",
    "chain_two = LLMChain(llm=llm, prompt=second_prompt)"
   ]
  },
  {
   "cell_type": "code",
   "execution_count": 24,
   "id": "6c1eb2c4",
   "metadata": {},
   "outputs": [],
   "source": [
    "overall_simple_chain = SimpleSequentialChain(chains=[chain_one, chain_two],\n",
    "                                             verbose=True\n",
    "                                            )"
   ]
  },
  {
   "cell_type": "code",
   "execution_count": 25,
   "id": "78458efe",
   "metadata": {},
   "outputs": [
    {
     "name": "stdout",
     "output_type": "stream",
     "text": [
      "\n",
      "\n",
      "\u001b[1m> Entering new SimpleSequentialChain chain...\u001b[0m\n",
      "\u001b[36;1m\u001b[1;3m\"Unleash the power of clean with the Dyson V15 - Cordless vacuuming at its finest!\"\u001b[0m\n",
      "\u001b[33;1m\u001b[1;3mIntroducing the Dyson V15 - the ultimate cordless vacuum that will revolutionize the way you clean your home. With unrivaled suction power and cutting-edge technology, this vacuum is designed to make cleaning effortless and efficient.\n",
      "\n",
      "Say goodbye to bulky cords and cumbersome vacuum cleaners. The Dyson V15 is lightweight, cordless, and easy to maneuver around furniture and tight spaces. Its powerful motor and advanced filtration system ensure that every nook and cranny of your home is left sparkling clean.\n",
      "\n",
      "Equipped with intelligent sensors, the Dyson V15 automatically detects the type of surface it's cleaning and adjusts its suction power accordingly. Whether you're vacuuming hardwood floors, carpets, or upholstery, this vacuum guarantees a deep and thorough clean every time.\n",
      "\n",
      "Incorporating Dyson's signature cyclone technology, the V15 captures even the smallest particles of dust and allergens, leaving your home not only looking clean but also feeling healthier. Additionally, its innovative LCD screen provides real-time performance updates, so you can track your cleaning progress and optimize your results.\n",
      "\n",
      "Experience the power of clean like never before with the Dyson V15. Say goodbye to traditional vacuum cleaners and hello to effortless, cordless cleaning at its finest.\u001b[0m\n",
      "\n",
      "\u001b[1m> Finished chain.\u001b[0m\n"
     ]
    },
    {
     "data": {
      "text/plain": [
       "\"Introducing the Dyson V15 - the ultimate cordless vacuum that will revolutionize the way you clean your home. With unrivaled suction power and cutting-edge technology, this vacuum is designed to make cleaning effortless and efficient.\\n\\nSay goodbye to bulky cords and cumbersome vacuum cleaners. The Dyson V15 is lightweight, cordless, and easy to maneuver around furniture and tight spaces. Its powerful motor and advanced filtration system ensure that every nook and cranny of your home is left sparkling clean.\\n\\nEquipped with intelligent sensors, the Dyson V15 automatically detects the type of surface it's cleaning and adjusts its suction power accordingly. Whether you're vacuuming hardwood floors, carpets, or upholstery, this vacuum guarantees a deep and thorough clean every time.\\n\\nIncorporating Dyson's signature cyclone technology, the V15 captures even the smallest particles of dust and allergens, leaving your home not only looking clean but also feeling healthier. Additionally, its innovative LCD screen provides real-time performance updates, so you can track your cleaning progress and optimize your results.\\n\\nExperience the power of clean like never before with the Dyson V15. Say goodbye to traditional vacuum cleaners and hello to effortless, cordless cleaning at its finest.\""
      ]
     },
     "execution_count": 25,
     "metadata": {},
     "output_type": "execute_result"
    }
   ],
   "source": [
    "overall_simple_chain.run(product)"
   ]
  },
  {
   "cell_type": "markdown",
   "id": "0dd59bda-9d02-44e7-b3d6-2bec61b99d8f",
   "metadata": {},
   "source": [
    "**Repeat the above twice for different products**"
   ]
  },
  {
   "cell_type": "code",
   "execution_count": 47,
   "id": "9c18c54e",
   "metadata": {},
   "outputs": [
    {
     "name": "stdout",
     "output_type": "stream",
     "text": [
      "PRODUCT 1 RESULT:\n",
      "\n",
      "\n",
      "\u001b[1m> Entering new SimpleSequentialChain chain...\u001b[0m\n",
      "\u001b[36;1m\u001b[1;3m\"Experience espresso excellence with every pod - Nespresso VertuoPlus, brewing perfection at the touch of a button!\"\u001b[0m\n",
      "\u001b[33;1m\u001b[1;3mIntroducing the Nespresso VertuoPlus - a game changer in the world of espresso brewing. With its innovative technology and sleek design, this machine is designed to deliver espresso excellence with every pod. \n",
      "\n",
      "Say goodbye to the hassle of traditional espresso machines and welcome the convenience of brewing perfection at the touch of a button. The Nespresso VertuoPlus uses a unique centrifugal extraction process to perfectly blend water and coffee, creating a rich and smooth espresso every time. \n",
      "\n",
      "Whether you prefer a bold and intense shot or a creamy and indulgent latte, the Nespresso VertuoPlus has you covered. Each pod is carefully crafted to bring out the full flavor profile of the coffee, ensuring a delightful and consistent experience with each cup.\n",
      "\n",
      "Elevate your coffee routine with the Nespresso VertuoPlus and enjoy the luxury of gourmet espresso in the comfort of your own home. Experience the difference today and take your coffee game to the next level.\u001b[0m\n",
      "\n",
      "\u001b[1m> Finished chain.\u001b[0m\n",
      "Introducing the Nespresso VertuoPlus - a game changer in the world of espresso brewing. With its innovative technology and sleek design, this machine is designed to deliver espresso excellence with every pod. \n",
      "\n",
      "Say goodbye to the hassle of traditional espresso machines and welcome the convenience of brewing perfection at the touch of a button. The Nespresso VertuoPlus uses a unique centrifugal extraction process to perfectly blend water and coffee, creating a rich and smooth espresso every time. \n",
      "\n",
      "Whether you prefer a bold and intense shot or a creamy and indulgent latte, the Nespresso VertuoPlus has you covered. Each pod is carefully crafted to bring out the full flavor profile of the coffee, ensuring a delightful and consistent experience with each cup.\n",
      "\n",
      "Elevate your coffee routine with the Nespresso VertuoPlus and enjoy the luxury of gourmet espresso in the comfort of your own home. Experience the difference today and take your coffee game to the next level.\n",
      "\n",
      "PRODUCT 2 RESULT:\n",
      "\n",
      "\n",
      "\u001b[1m> Entering new SimpleSequentialChain chain...\u001b[0m\n",
      "\u001b[36;1m\u001b[1;3m\"Immerse yourself in sound perfection with Sony WH-1000XM5 Wireless Headphones\"\u001b[0m\n",
      "\u001b[33;1m\u001b[1;3mExperience the ultimate in audio quality with the Sony WH-1000XM5 Wireless Headphones. These cutting-edge headphones are designed to provide a truly immersive sound experience, allowing you to hear every note and nuance with crystal-clear precision. Whether you're listening to your favorite music, watching movies, or enjoying podcasts, the WH-1000XM5 headphones deliver unparalleled sound perfection.\n",
      "\n",
      "Equipped with advanced noise-cancelling technology, these headphones block out external distractions so you can focus on the music or media at hand. The built-in microphone also allows you to take calls hands-free, making it easy to stay connected while on the go. And with a long-lasting battery life, you can enjoy hours of uninterrupted listening without having to worry about recharging.\n",
      "\n",
      "Designed for comfort as well as performance, the WH-1000XM5 headphones feature a lightweight and ergonomic design that is perfect for long listening sessions. The adjustable headband and soft ear cushions ensure a snug and comfortable fit, while the swivel design allows for easy storage and portability.\n",
      "\n",
      "Immerse yourself in sound perfection with the Sony WH-1000XM5 Wireless Headphones and elevate your audio experience to new heights. Whether you're a music enthusiast, audiophile, or simply looking for high-quality headphones, the WH-1000XM5 delivers the best in class sound and comfort.\u001b[0m\n",
      "\n",
      "\u001b[1m> Finished chain.\u001b[0m\n",
      "Experience the ultimate in audio quality with the Sony WH-1000XM5 Wireless Headphones. These cutting-edge headphones are designed to provide a truly immersive sound experience, allowing you to hear every note and nuance with crystal-clear precision. Whether you're listening to your favorite music, watching movies, or enjoying podcasts, the WH-1000XM5 headphones deliver unparalleled sound perfection.\n",
      "\n",
      "Equipped with advanced noise-cancelling technology, these headphones block out external distractions so you can focus on the music or media at hand. The built-in microphone also allows you to take calls hands-free, making it easy to stay connected while on the go. And with a long-lasting battery life, you can enjoy hours of uninterrupted listening without having to worry about recharging.\n",
      "\n",
      "Designed for comfort as well as performance, the WH-1000XM5 headphones feature a lightweight and ergonomic design that is perfect for long listening sessions. The adjustable headband and soft ear cushions ensure a snug and comfortable fit, while the swivel design allows for easy storage and portability.\n",
      "\n",
      "Immerse yourself in sound perfection with the Sony WH-1000XM5 Wireless Headphones and elevate your audio experience to new heights. Whether you're a music enthusiast, audiophile, or simply looking for high-quality headphones, the WH-1000XM5 delivers the best in class sound and comfort.\n"
     ]
    }
   ],
   "source": [
    "llm = ChatOpenAI(temperature=0.9)\n",
    "\n",
    "# Prompt 1: Tagline\n",
    "first_prompt = ChatPromptTemplate.from_template(\n",
    "    \"Write a catchy tagline for the product: {product}\"\n",
    ")\n",
    "chain_one = LLMChain(llm=llm, prompt=first_prompt)\n",
    "\n",
    "# Prompt 2: Expand tagline\n",
    "second_prompt = ChatPromptTemplate.from_template(\n",
    "    \"Expand the following product tagline into a full product description:\\n\\n{tagline}\"\n",
    ")\n",
    "chain_two = LLMChain(llm=llm, prompt=second_prompt)\n",
    "\n",
    "# Combine into a SimpleSequentialChain\n",
    "overall_simple_chain = SimpleSequentialChain(\n",
    "    chains=[chain_one, chain_two],\n",
    "    verbose=True\n",
    ")\n",
    "\n",
    "# --- Product 1 ---\n",
    "product_1 = \"Nespresso VertuoPlus Coffee Machine\"\n",
    "print(\"PRODUCT 1 RESULT:\")\n",
    "print(overall_simple_chain.run(product_1))\n",
    "\n",
    "# --- Product 2 ---\n",
    "product_2 = \"Sony WH-1000XM5 Wireless Headphones\"\n",
    "print(\"\\nPRODUCT 2 RESULT:\")\n",
    "print(overall_simple_chain.run(product_2))\n"
   ]
  },
  {
   "cell_type": "markdown",
   "id": "7b5ce18c",
   "metadata": {},
   "source": [
    "## SequentialChain"
   ]
  },
  {
   "cell_type": "code",
   "execution_count": 26,
   "id": "4c129ef6",
   "metadata": {},
   "outputs": [],
   "source": [
    "from langchain.chains import SequentialChain"
   ]
  },
  {
   "cell_type": "code",
   "execution_count": 27,
   "id": "016187ac",
   "metadata": {},
   "outputs": [],
   "source": [
    "llm = ChatOpenAI(temperature=0.9)\n",
    "\n",
    "\n",
    "first_prompt = ChatPromptTemplate.from_template(\n",
    "    \"Translate this product review to English:\\n\\n{review}\"\n",
    ")\n",
    "\n",
    "\n",
    "chain_one = LLMChain(llm=llm, prompt=first_prompt, \n",
    "                     output_key=\"english_review\"\n",
    "                    )\n"
   ]
  },
  {
   "cell_type": "code",
   "execution_count": 28,
   "id": "0fb0730e",
   "metadata": {},
   "outputs": [],
   "source": [
    "second_prompt = ChatPromptTemplate.from_template(\n",
    "    \"Summarize the following product review:\\n\\n{english_review}\"\n",
    ")\n",
    "\n",
    "chain_two = LLMChain(llm=llm, prompt=second_prompt, \n",
    "                     output_key=\"summary\"\n",
    "                    )\n"
   ]
  },
  {
   "cell_type": "code",
   "execution_count": 29,
   "id": "6accf92d",
   "metadata": {},
   "outputs": [],
   "source": [
    "# prompt template 3: translate to english or other language\n",
    "third_prompt = ChatPromptTemplate.from_template(\n",
    "    \"Translate the following product review to {language}:\\n\\n{review}\"\n",
    ")\n",
    "\n",
    "# chain 3: input= Review and output= language\n",
    "chain_three = LLMChain(llm=llm, prompt=third_prompt,\n",
    "                       output_key=\"translated_review\"\n",
    "                      )\n"
   ]
  },
  {
   "cell_type": "code",
   "execution_count": 30,
   "id": "c7a46121",
   "metadata": {},
   "outputs": [],
   "source": [
    "\n",
    "# prompt template 4: follow up message that take as inputs the two previous prompts' variables\n",
    "fourth_prompt = ChatPromptTemplate.from_template(\n",
    "    \"Using the following summarized review:\\n\\n{summary}\\n\\n\"\n",
    "    \"And its translation:\\n\\n{translated_review}\\n\\n\"\n",
    "    \"Write a polite and professional follow-up message to the customer.\"\n",
    ")\n",
    "\n",
    "chain_four = LLMChain(llm=llm, prompt=fourth_prompt,\n",
    "                      output_key=\"follow_up_message\"\n",
    "                     )\n"
   ]
  },
  {
   "cell_type": "code",
   "execution_count": 38,
   "id": "89603117",
   "metadata": {},
   "outputs": [],
   "source": [
    "overall_chain = SequentialChain(\n",
    "    chains=[chain_one, chain_two, chain_three, chain_four],\n",
    "    input_variables=[\"review\", \"language\"],\n",
    "    output_variables=[\"english_review\", \"summary\", \"follow_up_message\"],\n",
    "    verbose=True\n",
    ")\n"
   ]
  },
  {
   "cell_type": "code",
   "execution_count": 42,
   "id": "51b04f45",
   "metadata": {},
   "outputs": [
    {
     "name": "stdout",
     "output_type": "stream",
     "text": [
      "\n",
      "\n",
      "\u001b[1m> Entering new SequentialChain chain...\u001b[0m\n",
      "\n",
      "\u001b[1m> Finished chain.\u001b[0m\n",
      "\n",
      " English Review:\n",
      " I find the taste poor. The foam doesn't hold, it's strange. I buy the same ones in stores and the taste is much better...\n",
      "Old batch or counterfeit!?\n",
      "\n",
      " Summary:\n",
      " The reviewer is disappointed in the taste and quality of the product, comparing it to similar ones bought in stores. They question if the product they received could be an old batch or counterfeit.\n",
      "\n",
      " Follow-Up Message:\n",
      " Dear Customer,\n",
      "\n",
      "Thank you for bringing this to our attention. We are sorry to hear that you were disappointed with the taste and quality of the product you received. We take the quality of our products very seriously and would like to investigate this further.\n",
      "\n",
      "Could you please provide us with more details about your purchase, such as the batch number or any other relevant information? This will help us determine if there was an issue with the product you received.\n",
      "\n",
      "We strive to provide our customers with the best possible experience and we apologize for any inconvenience this may have caused. Please let us know how we can assist you further.\n",
      "\n",
      "Thank you for your understanding.\n",
      "\n",
      "Sincerely,\n",
      "[Your Name]\n",
      "Customer Service Team\n"
     ]
    }
   ],
   "source": [
    "review = df.Review[5]\n",
    "language = \"Italian\" \n",
    "\n",
    "result = overall_chain.invoke({\n",
    "    \"review\": review,\n",
    "    \"language\": language\n",
    "})\n",
    "\n",
    "print(\"\\n English Review:\\n\", result[\"english_review\"])\n",
    "print(\"\\n Summary:\\n\", result[\"summary\"])\n",
    "print(\"\\n Follow-Up Message:\\n\", result[\"follow_up_message\"])\n"
   ]
  },
  {
   "cell_type": "markdown",
   "id": "3187cf07-458a-4226-bec7-3dec7ee47af2",
   "metadata": {},
   "source": [
    "**Repeat the above twice for different products or reviews**"
   ]
  },
  {
   "cell_type": "code",
   "execution_count": null,
   "id": "fed5f6e4",
   "metadata": {},
   "outputs": [
    {
     "name": "stdout",
     "output_type": "stream",
     "text": [
      "\n",
      "\n",
      "\u001b[1m> Entering new SequentialChain chain...\u001b[0m\n",
      "\n",
      "\u001b[1m> Finished chain.\u001b[0m\n",
      "REVIEW 1 RESULTS\n",
      "\n",
      "English Review:\n",
      " I find the taste mediocre. The foam doesn't hold up, it's weird. I buy the same ones in stores and the taste is much better... Old batch or counterfeit!?\n",
      "\n",
      "Summary:\n",
      " The reviewer found the taste of the product to be mediocre and noted that the foam did not hold up well. They speculated that the product may be either an old batch or a counterfeit, as they typically purchase the same product in stores and find the taste to be much better.\n",
      "\n",
      "Follow-Up Message:\n",
      " Dear valued customer,\n",
      "\n",
      "Thank you for providing your feedback on your recent purchase. We apologize for any disappointment you experienced with the taste and foam quality of the product. \n",
      "\n",
      "We take the quality of our products very seriously and would like to assure you that we do not sell counterfeit items. However, we are sorry to hear that you may have received an old batch. \n",
      "\n",
      "We would like to investigate this matter further and ensure that you receive a product that meets your expectations. Please reach out to our customer service team with your purchase details so that we can address this issue promptly.\n",
      "\n",
      "Thank you for bringing this to our attention, and we appreciate your continued support.\n",
      "\n",
      "Sincerely,\n",
      "[Your Name]\n",
      "Customer Service Team\n",
      "\n",
      "\n",
      "\u001b[1m> Entering new SequentialChain chain...\u001b[0m\n",
      "\n",
      "\u001b[1m> Finished chain.\u001b[0m\n",
      "\n",
      "\n",
      " REVIEW 2 RESULTS\n",
      "\n",
      "English Review:\n",
      " I find the taste mediocre. The foam doesn't hold, it's weird. I buy the same ones in stores and the taste is much better...Old batch or counterfeit!?\n",
      "\n",
      "Summary:\n",
      " The reviewer finds the taste of the product to be mediocre, and they also note that the foam does not hold well. They suggest that maybe they received an old batch or counterfeit product, as they typically buy the same product in stores and find the taste to be much better.\n",
      "\n",
      "Follow-Up Message:\n",
      " Dear valued customer,\n",
      "\n",
      "Thank you for bringing this to our attention. We apologize for any inconvenience this may have caused. We take quality control very seriously and will investigate this issue further. Would you be able to provide us with more specific details, such as the batch number and expiration date, so we can look into this matter more thoroughly? We want to ensure that all our customers have a positive experience with our products. Thank you for your understanding and cooperation.\n",
      "\n",
      "Best regards,\n",
      "[Your Name]\n",
      "Customer Service Team\n"
     ]
    }
   ],
   "source": [
    "# Review 1\n",
    "review_1 = df.Review[5]\n",
    "language_1 = \"Italian\"\n",
    "\n",
    "result_1 = overall_chain.invoke({\n",
    "    \"review\": review_1,\n",
    "    \"language\": language_1\n",
    "})\n",
    "\n",
    "print(\"REVIEW 1 RESULTS\")\n",
    "print(\"\\nEnglish Review:\\n\", result_1[\"english_review\"])\n",
    "print(\"\\nSummary:\\n\", result_1[\"summary\"])\n",
    "print(\"\\nFollow-Up Message:\\n\", result_1[\"follow_up_message\"])\n",
    "\n",
    "# Review 2\n",
    "review_2 = df.Review[5]\n",
    "language_2 = \"Japanese\"\n",
    "\n",
    "result_2 = overall_chain.invoke({\n",
    "    \"review\": review_2,\n",
    "    \"language\": language_2\n",
    "})\n",
    "\n",
    "print(\"\\n\\n REVIEW 2 RESULTS\")\n",
    "print(\"\\nEnglish Review:\\n\", result_2[\"english_review\"])\n",
    "print(\"\\nSummary:\\n\", result_2[\"summary\"])\n",
    "print(\"\\nFollow-Up Message:\\n\", result_2[\"follow_up_message\"])\n"
   ]
  },
  {
   "cell_type": "markdown",
   "id": "3041ea4c",
   "metadata": {},
   "source": [
    "## Router Chain"
   ]
  },
  {
   "cell_type": "code",
   "execution_count": 48,
   "id": "ade83f4f",
   "metadata": {},
   "outputs": [],
   "source": [
    "physics_template = \"\"\"You are a very smart physics professor. \\\n",
    "You are great at answering questions about physics in a concise\\\n",
    "and easy to understand manner. \\\n",
    "When you don't know the answer to a question you admit\\\n",
    "that you don't know.\n",
    "\n",
    "Here is a question:\n",
    "{input}\"\"\"\n",
    "\n",
    "\n",
    "math_template = \"\"\"You are a very good mathematician. \\\n",
    "You are great at answering math questions. \\\n",
    "You are so good because you are able to break down \\\n",
    "hard problems into their component parts, \n",
    "answer the component parts, and then put them together\\\n",
    "to answer the broader question.\n",
    "\n",
    "Here is a question:\n",
    "{input}\"\"\"\n",
    "\n",
    "history_template = \"\"\"You are a very good historian. \\\n",
    "You have an excellent knowledge of and understanding of people,\\\n",
    "events and contexts from a range of historical periods. \\\n",
    "You have the ability to think, reflect, debate, discuss and \\\n",
    "evaluate the past. You have a respect for historical evidence\\\n",
    "and the ability to make use of it to support your explanations \\\n",
    "and judgements.\n",
    "\n",
    "Here is a question:\n",
    "{input}\"\"\"\n",
    "\n",
    "\n",
    "computerscience_template = \"\"\" You are a successful computer scientist.\\\n",
    "You have a passion for creativity, collaboration,\\\n",
    "forward-thinking, confidence, strong problem-solving capabilities,\\\n",
    "understanding of theories and algorithms, and excellent communication \\\n",
    "skills. You are great at answering coding questions. \\\n",
    "You are so good because you know how to solve a problem by \\\n",
    "describing the solution in imperative steps \\\n",
    "that a machine can easily interpret and you know how to \\\n",
    "choose a solution that has a good balance between \\\n",
    "time complexity and space complexity. \n",
    "\n",
    "Here is a question:\n",
    "{input}\"\"\"\n",
    "\n",
    "biology_template = \"\"\"You are an excellent biologist. \\\n",
    "You have a deep understanding of living organisms, \\\n",
    "from the molecular and cellular level to entire ecosystems. \\\n",
    "You are skilled at observing patterns in nature, analyzing biological data, \\\n",
    "and explaining complex processes like evolution, genetics, physiology, and ecology. \\\n",
    "You can clearly communicate how life functions and adapts, \\\n",
    "and you make connections between different biological concepts \\\n",
    "to answer challenging questions.\n",
    "\n",
    "Here is a question:\n",
    "{input}\"\"\""
   ]
  },
  {
   "cell_type": "code",
   "execution_count": 49,
   "id": "5f590e9f",
   "metadata": {},
   "outputs": [],
   "source": [
    "prompt_infos = [\n",
    "    {\n",
    "        \"name\": \"physics\", \n",
    "        \"description\": \"Good for answering questions about physics\", \n",
    "        \"prompt_template\": physics_template\n",
    "    },\n",
    "    {\n",
    "        \"name\": \"math\", \n",
    "        \"description\": \"Good for answering math questions\", \n",
    "        \"prompt_template\": math_template\n",
    "    },\n",
    "    {\n",
    "        \"name\": \"History\", \n",
    "        \"description\": \"Good for answering history questions\", \n",
    "        \"prompt_template\": history_template\n",
    "    },\n",
    "    {\n",
    "        \"name\": \"computer science\", \n",
    "        \"description\": \"Good for answering computer science questions\", \n",
    "        \"prompt_template\": computerscience_template\n",
    "    },\n",
    "    {\n",
    "        \"name\": \"biology\",\n",
    "        \"description\": \"Good for answering biology questions\",\n",
    "        \"prompt_template\": biology_template\n",
    "    }\n",
    "]"
   ]
  },
  {
   "cell_type": "code",
   "execution_count": 50,
   "id": "31b06fc8",
   "metadata": {},
   "outputs": [],
   "source": [
    "from langchain.chains.router import MultiPromptChain\n",
    "from langchain.chains.router.llm_router import LLMRouterChain,RouterOutputParser\n",
    "from langchain.prompts import PromptTemplate"
   ]
  },
  {
   "cell_type": "code",
   "execution_count": 51,
   "id": "f3f50bcc",
   "metadata": {},
   "outputs": [],
   "source": [
    "llm = ChatOpenAI(temperature=0)"
   ]
  },
  {
   "cell_type": "code",
   "execution_count": 52,
   "id": "8eefec24",
   "metadata": {},
   "outputs": [],
   "source": [
    "destination_chains = {}\n",
    "for p_info in prompt_infos:\n",
    "    name = p_info[\"name\"]\n",
    "    prompt_template = p_info[\"prompt_template\"]\n",
    "    prompt = ChatPromptTemplate.from_template(template=prompt_template)\n",
    "    chain = LLMChain(llm=llm, prompt=prompt)\n",
    "    destination_chains[name] = chain  \n",
    "    \n",
    "destinations = [f\"{p['name']}: {p['description']}\" for p in prompt_infos]\n",
    "destinations_str = \"\\n\".join(destinations)"
   ]
  },
  {
   "cell_type": "code",
   "execution_count": 53,
   "id": "9f98018a",
   "metadata": {},
   "outputs": [],
   "source": [
    "default_prompt = ChatPromptTemplate.from_template(\"{input}\")\n",
    "default_chain = LLMChain(llm=llm, prompt=default_prompt)"
   ]
  },
  {
   "cell_type": "code",
   "execution_count": 54,
   "id": "11b2e2ba",
   "metadata": {},
   "outputs": [],
   "source": [
    "MULTI_PROMPT_ROUTER_TEMPLATE = \"\"\"Given a raw text input to a \\\n",
    "language model select the model prompt best suited for the input. \\\n",
    "You will be given the names of the available prompts and a \\\n",
    "description of what the prompt is best suited for. \\\n",
    "You may also revise the original input if you think that revising\\\n",
    "it will ultimately lead to a better response from the language model.\n",
    "\n",
    "<< FORMATTING >>\n",
    "Return a markdown code snippet with a JSON object formatted to look like:\n",
    "```json\n",
    "{{{{\n",
    "    \"destination\": string \\ name of the prompt to use or \"DEFAULT\"\n",
    "    \"next_inputs\": string \\ a potentially modified version of the original input\n",
    "}}}}\n",
    "```\n",
    "\n",
    "REMEMBER: \"destination\" MUST be one of the candidate prompt \\\n",
    "names specified below OR it can be \"DEFAULT\" if the input is not\\\n",
    "well suited for any of the candidate prompts.\n",
    "REMEMBER: \"next_inputs\" can just be the original input \\\n",
    "if you don't think any modifications are needed.\n",
    "\n",
    "<< CANDIDATE PROMPTS >>\n",
    "{destinations}\n",
    "\n",
    "<< INPUT >>\n",
    "{{input}}\n",
    "\n",
    "<< OUTPUT (remember to include the ```json)>>\"\"\""
   ]
  },
  {
   "cell_type": "code",
   "execution_count": 55,
   "id": "1387109d",
   "metadata": {},
   "outputs": [],
   "source": [
    "router_template = MULTI_PROMPT_ROUTER_TEMPLATE.format(\n",
    "    destinations=destinations_str\n",
    ")\n",
    "router_prompt = PromptTemplate(\n",
    "    template=router_template,\n",
    "    input_variables=[\"input\"],\n",
    "    output_parser=RouterOutputParser(),\n",
    ")\n",
    "\n",
    "router_chain = LLMRouterChain.from_llm(llm, router_prompt)"
   ]
  },
  {
   "cell_type": "code",
   "execution_count": 56,
   "id": "2fb7d560",
   "metadata": {},
   "outputs": [
    {
     "name": "stderr",
     "output_type": "stream",
     "text": [
      "C:\\Users\\deept\\AppData\\Local\\Temp\\ipykernel_15356\\3038952769.py:1: LangChainDeprecationWarning: Please see migration guide here for recommended implementation: https://python.langchain.com/docs/versions/migrating_chains/multi_prompt_chain/\n",
      "  chain = MultiPromptChain(router_chain=router_chain,\n"
     ]
    }
   ],
   "source": [
    "chain = MultiPromptChain(router_chain=router_chain, \n",
    "                         destination_chains=destination_chains, \n",
    "                         default_chain=default_chain, verbose=True\n",
    "                        )"
   ]
  },
  {
   "cell_type": "code",
   "execution_count": 57,
   "id": "d86b2131",
   "metadata": {},
   "outputs": [
    {
     "name": "stdout",
     "output_type": "stream",
     "text": [
      "\n",
      "\n",
      "\u001b[1m> Entering new MultiPromptChain chain...\u001b[0m\n",
      "physics: {'input': 'What is black body radiation?'}\n",
      "\u001b[1m> Finished chain.\u001b[0m\n"
     ]
    },
    {
     "data": {
      "text/plain": [
       "\"Black body radiation refers to the electromagnetic radiation emitted by a perfect black body, which is an idealized physical body that absorbs all incident electromagnetic radiation and emits radiation at all frequencies. The radiation emitted by a black body depends only on its temperature and follows a specific distribution known as Planck's law. This type of radiation is important in understanding concepts such as thermal radiation and the behavior of objects at different temperatures.\""
      ]
     },
     "execution_count": 57,
     "metadata": {},
     "output_type": "execute_result"
    }
   ],
   "source": [
    "chain.run(\"What is black body radiation?\")"
   ]
  },
  {
   "cell_type": "code",
   "execution_count": 58,
   "id": "3b717379",
   "metadata": {},
   "outputs": [
    {
     "name": "stdout",
     "output_type": "stream",
     "text": [
      "\n",
      "\n",
      "\u001b[1m> Entering new MultiPromptChain chain...\u001b[0m\n",
      "math: {'input': 'what is 2 + 2'}\n",
      "\u001b[1m> Finished chain.\u001b[0m\n"
     ]
    },
    {
     "data": {
      "text/plain": [
       "'The answer to 2 + 2 is 4.'"
      ]
     },
     "execution_count": 58,
     "metadata": {},
     "output_type": "execute_result"
    }
   ],
   "source": [
    "chain.run(\"what is 2 + 2\")"
   ]
  },
  {
   "cell_type": "code",
   "execution_count": 59,
   "id": "29e5be01",
   "metadata": {},
   "outputs": [
    {
     "name": "stdout",
     "output_type": "stream",
     "text": [
      "\n",
      "\n",
      "\u001b[1m> Entering new MultiPromptChain chain...\u001b[0m\n",
      "biology: {'input': 'Why does every cell in our body contain DNA?'}\n",
      "\u001b[1m> Finished chain.\u001b[0m\n"
     ]
    },
    {
     "data": {
      "text/plain": [
       "\"Every cell in our body contains DNA because DNA is the genetic material that carries the instructions for the development, functioning, and reproduction of all living organisms. DNA contains the information needed to build and maintain an organism, including the proteins that make up our cells and tissues. \\n\\nHaving DNA in every cell ensures that each cell has the necessary genetic information to carry out its specific functions and to replicate itself accurately during cell division. This ensures that the genetic information is passed on to the next generation of cells, maintaining the integrity and continuity of the organism's genetic code.\\n\\nAdditionally, DNA serves as a storage system for genetic information that can be accessed and utilized by cells as needed. This allows for the regulation of gene expression, the repair of damaged DNA, and the adaptation to changing environmental conditions.\\n\\nIn summary, the presence of DNA in every cell of our body is essential for the proper functioning and survival of the organism, as it provides the blueprint for life and enables cells to carry out their specialized functions.\""
      ]
     },
     "execution_count": 59,
     "metadata": {},
     "output_type": "execute_result"
    }
   ],
   "source": [
    "chain.run(\"Why does every cell in our body contain DNA?\")"
   ]
  },
  {
   "cell_type": "markdown",
   "id": "09e0c60b-7ae0-453e-9467-142d8dafee6e",
   "metadata": {},
   "source": [
    "**Repeat the above at least once for different inputs and chains executions - Be creative!**"
   ]
  },
  {
   "cell_type": "markdown",
   "id": "26ec8200",
   "metadata": {},
   "source": [
    "#### Jujutsu Kaisen"
   ]
  },
  {
   "cell_type": "code",
   "execution_count": 64,
   "id": "1bc5f1eb",
   "metadata": {},
   "outputs": [
    {
     "name": "stdout",
     "output_type": "stream",
     "text": [
      "\n",
      " Question: How does Gojo's Infinity work?\n",
      "\n",
      "\n",
      "\u001b[1m> Entering new MultiPromptChain chain...\u001b[0m\n",
      "None: {'input': \"How does Gojo's Infinity work?\"}\n",
      "\u001b[1m> Finished chain.\u001b[0m\n",
      " Answer: Gojo's Infinity is a powerful technique that allows the user to create an infinite void within a specific area. This void absorbs and nullifies all incoming attacks, making the user essentially invincible within its boundaries. The technique is activated by the user creating a spherical barrier around themselves, which then expands outward to encompass the desired area. The void created by Gojo's Infinity is said to be impenetrable and can only be deactivated by the user themselves. This technique is one of the most powerful abilities in the Jujutsu Kaisen series and is a testament to Gojo's immense skill and power as a sorcerer.\n",
      "\n",
      " Question: What is cursed energy and how do you use it?\n",
      "\n",
      "\n",
      "\u001b[1m> Entering new MultiPromptChain chain...\u001b[0m\n",
      "biology: {'input': 'What is cursed energy and how do you use it?'}\n",
      "\u001b[1m> Finished chain.\u001b[0m\n",
      " Answer: Cursed energy is a concept often found in fictional works, particularly in the realm of fantasy and supernatural genres. It is typically described as a type of energy that is imbued with negative or malevolent forces, often associated with dark magic or supernatural beings.\n",
      "\n",
      "In some stories, cursed energy can be harnessed or manipulated by individuals with certain abilities or powers. This energy can be used for various purposes, such as casting spells, creating curses, or enhancing one's own abilities. However, the use of cursed energy often comes with consequences, as it can corrupt the user or have harmful effects on the environment.\n",
      "\n",
      "As a biologist, I would approach the concept of cursed energy from a scientific perspective and analyze it as a metaphorical or symbolic representation of negative forces or influences in the natural world. While the idea of harnessing cursed energy may be purely fictional, it can serve as a powerful allegory for the consequences of manipulating natural forces beyond our understanding or control.\n",
      "\n",
      " Question: Explain how Megumi summons his shikigami.\n",
      "\n",
      "\n",
      "\u001b[1m> Entering new MultiPromptChain chain...\u001b[0m\n",
      "None: {'input': 'Explain how Megumi summons his shikigami.'}\n",
      "\u001b[1m> Finished chain.\u001b[0m\n",
      " Answer: Megumi Fushiguro, a character from the manga and anime series Jujutsu Kaisen, is able to summon shikigami through his innate technique called Ten Shadows Technique. This technique allows him to control up to ten shikigami at a time by forming a contract with them.\n",
      "\n",
      "To summon his shikigami, Megumi first needs to draw a symbol on his hand using his own blood. This symbol acts as a medium through which he can communicate with and control the shikigami. Once the symbol is drawn, Megumi can call upon the shikigami by speaking their name and commanding them to appear.\n",
      "\n",
      "Each shikigami has its own unique abilities and powers, which Megumi can utilize in battle to aid him in fighting curses and other supernatural threats. By forming a strong bond with his shikigami and mastering his Ten Shadows Technique, Megumi becomes a formidable jujutsu sorcerer capable of taking on even the most powerful adversaries.\n",
      "\n",
      " Question: What is Resonance and how does Nobara use it?\n",
      "\n",
      "\n",
      "\u001b[1m> Entering new MultiPromptChain chain...\u001b[0m\n",
      "physics: {'input': 'What is Resonance and how does Nobara use it?'}\n",
      "\u001b[1m> Finished chain.\u001b[0m\n",
      " Answer: Resonance is a phenomenon in which an object or system vibrates at its natural frequency when exposed to external vibrations or forces. This can result in a significant increase in amplitude of the vibrations.\n",
      "\n",
      "In the context of Nobara, a character from the anime and manga series \"Jujutsu Kaisen,\" she uses resonance in her combat abilities. Nobara is able to infuse her cursed tools with her own cursed energy, allowing her to create powerful vibrations that can resonate with the target's own cursed energy. This resonance can amplify the damage inflicted on the target, making her attacks more effective and devastating.\n",
      "\n",
      " Question: How does Sukuna perform his domain expansion?\n",
      "\n",
      "\n",
      "\u001b[1m> Entering new MultiPromptChain chain...\u001b[0m\n",
      "None: {'input': 'How does Sukuna perform his domain expansion?'}\n",
      "\u001b[1m> Finished chain.\u001b[0m\n",
      " Answer: Sukuna performs his domain expansion by creating a large, powerful curse energy field around himself. This field is filled with his malevolent energy and can cause immense damage to anyone caught within it. Sukuna's domain expansion is known as \"Malevolent Shrine\" and is one of the most powerful techniques in his arsenal.\n",
      "\n",
      " Question: What’s the best way to survive in Shibuya?\n",
      "\n",
      "\n",
      "\u001b[1m> Entering new MultiPromptChain chain...\u001b[0m\n",
      "None: {'input': 'What’s the best way to survive in Shibuya?'}\n",
      "\u001b[1m> Finished chain.\u001b[0m\n",
      " Answer: The best way to survive in Shibuya, a bustling district in Tokyo, is to be prepared, stay alert, and follow these tips:\n",
      "\n",
      "1. Stay aware of your surroundings: Shibuya is a busy area with a lot of foot traffic, so it's important to stay alert and be aware of your surroundings at all times.\n",
      "\n",
      "2. Use public transportation: Shibuya is well-connected by public transportation, so it's best to use trains and buses to get around rather than driving or walking long distances.\n",
      "\n",
      "3. Stay hydrated and well-fed: With so much to see and do in Shibuya, it's easy to get caught up and forget to take care of yourself. Make sure to stay hydrated and well-fed to keep your energy levels up.\n",
      "\n",
      "4. Be respectful of local customs: Japan has its own unique customs and traditions, so it's important to be respectful of these when visiting Shibuya. This includes things like bowing when greeting someone and taking off your shoes before entering a home or certain establishments.\n",
      "\n",
      "5. Keep your belongings secure: Shibuya is a popular tourist destination, so it's important to keep your belongings secure to avoid pickpocketing or theft. Consider using a money belt or keeping your valuables in a secure bag.\n",
      "\n",
      "By following these tips and staying vigilant, you can have a safe and enjoyable experience in Shibuya.\n"
     ]
    }
   ],
   "source": [
    "from langchain.chains import LLMChain\n",
    "from langchain.chains.router import MultiPromptChain\n",
    "from langchain.chains.router.llm_router import LLMRouterChain, RouterOutputParser\n",
    "from langchain.prompts import PromptTemplate, ChatPromptTemplate\n",
    "from langchain_openai import ChatOpenAI\n",
    "\n",
    "llm = ChatOpenAI(temperature=0)\n",
    "\n",
    "# 1. Define JJK character-specific prompt templates\n",
    "gojo_template = \"\"\"You are Gojo Satoru, the strongest sorcerer. \\\n",
    "You're an expert in explaining high-level techniques like the Limitless and Infinity. \\\n",
    "You speak confidently, sometimes sarcastically, but always know your stuff.\n",
    "\n",
    "Here is a question:\n",
    "{input}\"\"\"\n",
    "\n",
    "yuji_template = \"\"\"You are Itadori Yuji. \\\n",
    "You're great at explaining the basics of cursed energy, fighting spirit, and general life at Jujutsu High. \\\n",
    "You speak casually and enthusiastically, even if you’re not a genius.\n",
    "\n",
    "Here is a question:\n",
    "{input}\"\"\"\n",
    "\n",
    "megumi_template = \"\"\"You are Fushiguro Megumi. \\\n",
    "You're calm and strategic, specializing in explaining combat tactics and shikigami usage. \\\n",
    "You speak in a thoughtful and precise way.\n",
    "\n",
    "Here is a question:\n",
    "{input}\"\"\"\n",
    "\n",
    "nobara_template = \"\"\"You are Nobara Kugisaki. \\\n",
    "You're confident, direct, and you explain curse tools and voodoo-style techniques like Resonance. \\\n",
    "You don’t sugarcoat anything, and your tone is sharp but honest.\n",
    "\n",
    "Here is a question:\n",
    "{input}\"\"\"\n",
    "\n",
    "sukuna_template = \"\"\"You are Sukuna, the King of Curses. \\\n",
    "You explain ancient cursed techniques, domains, and powerful rituals with arrogance and authority. \\\n",
    "You might insult the questioner, but your answers are precise and terrifying.\n",
    "\n",
    "Here is a question:\n",
    "{input}\"\"\"\n",
    "\n",
    "# 2. Define prompt info\n",
    "prompt_infos = [\n",
    "    {\"name\": \"gojo\", \"description\": \"Limitless techniques and infinity\", \"prompt_template\": gojo_template},\n",
    "    {\"name\": \"yuji\", \"description\": \"Basics of cursed energy and fighting\", \"prompt_template\": yuji_template},\n",
    "    {\"name\": \"megumi\", \"description\": \"Combat tactics and shikigami\", \"prompt_template\": megumi_template},\n",
    "    {\"name\": \"nobara\", \"description\": \"Cursed tools and voodoo techniques\", \"prompt_template\": nobara_template},\n",
    "    {\"name\": \"sukuna\", \"description\": \"Ancient curses and domain expansions\", \"prompt_template\": sukuna_template},\n",
    "]\n",
    "\n",
    "# 3. Build character chains\n",
    "destination_chains = {}\n",
    "for p in prompt_infos:\n",
    "    name = p[\"name\"]\n",
    "    prompt = ChatPromptTemplate.from_template(p[\"prompt_template\"])\n",
    "    destination_chains[name] = LLMChain(llm=llm, prompt=prompt)\n",
    "\n",
    "# 4. Router Template\n",
    "ROUTER_TEMPLATE = \"\"\"Given the input, choose the most fitting character to answer it.\n",
    "\n",
    "<< FORMAT >>\n",
    "Return a markdown code block:\n",
    "```json\n",
    "{\n",
    "    \"destination\": string,  // name of the character or \"DEFAULT\"\n",
    "    \"next_inputs\": string   // rephrased question or same input\n",
    "}\n",
    "\"\"\"\n",
    "\n",
    "#Questions\n",
    "questions = [\n",
    "    \"How does Gojo's Infinity work?\",\n",
    "    \"What is cursed energy and how do you use it?\",\n",
    "    \"Explain how Megumi summons his shikigami.\",\n",
    "    \"What is Resonance and how does Nobara use it?\",\n",
    "    \"How does Sukuna perform his domain expansion?\",\n",
    "    \"What’s the best way to survive in Shibuya?\"\n",
    "]\n",
    "\n",
    "#Printing\n",
    "for q in questions:\n",
    "    print(f\"\\n Question: {q}\")\n",
    "    answer = chain.run(q)\n",
    "    print(\" Answer:\", answer)\n"
   ]
  },
  {
   "cell_type": "markdown",
   "id": "0b5679fc",
   "metadata": {},
   "source": [
    "#### Sherlock Holmes"
   ]
  },
  {
   "cell_type": "code",
   "execution_count": 67,
   "id": "9f12c915",
   "metadata": {},
   "outputs": [
    {
     "name": "stdout",
     "output_type": "stream",
     "text": [
      "================================================================================\n",
      "Question 1: How did Holmes deduce the culprit in the Hound of the Baskervilles?\n",
      "\n",
      "\n",
      "\u001b[1m> Entering new MultiPromptChain chain...\u001b[0m\n",
      "History: {'input': 'How did Holmes deduce the culprit in the Hound of the Baskervilles?'}\n",
      "\u001b[1m> Finished chain.\u001b[0m\n",
      "Answer 1:\n",
      "In \"The Hound of the Baskervilles,\" Sherlock Holmes deduces the culprit by carefully examining the evidence and using his keen powers of observation and deduction. He notices various clues, such as the footprints of a large dog near the body of Sir Charles Baskerville, the presence of a mysterious stranger in the area, and the behavior of the suspects.\n",
      "\n",
      "Holmes also pays close attention to the details of the case, such as the history of the Baskerville family and the legend of the hound. He uses his knowledge of human nature and his understanding of psychology to analyze the motives and actions of the suspects.\n",
      "\n",
      "Ultimately, Holmes is able to piece together the evidence and uncover the truth behind the mystery, revealing the identity of the culprit and solving the case. His deductive reasoning and logical thinking are key factors in his success as a detective.\n",
      "================================================================================\n",
      "Question 2: What symptoms suggest arsenic poisoning?\n",
      "\n",
      "\n",
      "\u001b[1m> Entering new MultiPromptChain chain...\u001b[0m\n",
      "biology: {'input': 'What are the symptoms of arsenic poisoning?'}\n",
      "\u001b[1m> Finished chain.\u001b[0m\n",
      "Answer 2:\n",
      "Arsenic poisoning can manifest in a variety of symptoms, depending on the level of exposure and duration. Some common symptoms include abdominal pain, diarrhea, vomiting, nausea, and a metallic taste in the mouth. Other symptoms may include numbness or tingling in the extremities, muscle cramps, skin discoloration or lesions, and hair loss. In severe cases, arsenic poisoning can lead to organ failure, seizures, coma, and even death. It is important to seek medical attention immediately if you suspect arsenic poisoning.\n",
      "================================================================================\n",
      "Question 3: What would Mycroft think of modern surveillance systems?\n",
      "\n",
      "\n",
      "\u001b[1m> Entering new MultiPromptChain chain...\u001b[0m\n",
      "None: {'input': 'What would Mycroft think of modern surveillance systems?'}\n",
      "\u001b[1m> Finished chain.\u001b[0m\n",
      "Answer 3:\n",
      "Mycroft Holmes, being a highly intelligent and observant individual, would likely have mixed feelings about modern surveillance systems. On one hand, he would appreciate the potential benefits of such systems in terms of crime prevention and national security. He would recognize the value of being able to track and monitor individuals who pose a threat to society.\n",
      "\n",
      "However, Mycroft would also be wary of the potential for abuse and invasion of privacy that comes with widespread surveillance. He would be concerned about the implications of constant monitoring and the erosion of civil liberties that could result from unchecked surveillance practices.\n",
      "\n",
      "Overall, Mycroft would likely advocate for a balance between security and privacy, emphasizing the importance of oversight and accountability in the use of surveillance systems. He would likely be a vocal critic of any system that oversteps its boundaries and infringes on the rights of individuals.\n",
      "================================================================================\n",
      "Question 4: How should Lestrade interrogate a repeat offender?\n",
      "\n",
      "\n",
      "\u001b[1m> Entering new MultiPromptChain chain...\u001b[0m\n",
      "History: {'input': 'How should Lestrade interrogate a repeat offender?'}\n",
      "\u001b[1m> Finished chain.\u001b[0m\n",
      "Answer 4:\n",
      "When interrogating a repeat offender, Lestrade should approach the situation with a combination of firmness and empathy. It is important for Lestrade to establish a rapport with the offender in order to gain their trust and cooperation. Lestrade should also be well-prepared with evidence and information related to the offender's past crimes in order to confront them with the facts.\n",
      "\n",
      "Lestrade should ask open-ended questions to allow the offender to provide detailed responses, while also being prepared to challenge any inconsistencies or lies. It is important for Lestrade to remain calm and composed during the interrogation, as getting emotional or aggressive may only escalate the situation.\n",
      "\n",
      "Additionally, Lestrade should be mindful of the offender's rights and ensure that they are treated fairly and respectfully throughout the interrogation process. It is also important for Lestrade to listen actively and attentively to the offender's responses, as they may provide valuable insights or information that could aid in the investigation.\n",
      "\n",
      "Overall, Lestrade should approach the interrogation with a balance of assertiveness, empathy, and professionalism in order to effectively gather information and potentially elicit a confession from the repeat offender.\n",
      "================================================================================\n",
      "Question 5: How can someone manipulate a nobleman into revealing secrets?\n",
      "\n",
      "\n",
      "\u001b[1m> Entering new MultiPromptChain chain...\u001b[0m\n",
      "None: {'input': 'How can someone manipulate a nobleman into revealing secrets?'}\n",
      "\u001b[1m> Finished chain.\u001b[0m\n",
      "Answer 5:\n",
      "1. Gain their trust: Build a strong relationship with the nobleman by showing interest in their interests and offering support and assistance whenever needed. This will make them more likely to confide in you.\n",
      "\n",
      "2. Flatter them: Use flattery to stroke their ego and make them feel important and valued. Compliment their intelligence, wisdom, and status to make them more inclined to share their secrets with you.\n",
      "\n",
      "3. Create a sense of urgency: Fabricate a situation that requires the nobleman to reveal their secrets in order to help or protect you. This could be a fake threat or danger that only they can help you with.\n",
      "\n",
      "4. Appeal to their emotions: Manipulate the nobleman by playing on their emotions, such as guilt, fear, or sympathy. Use emotional manipulation to make them feel compelled to share their secrets with you.\n",
      "\n",
      "5. Offer something in return: Promise the nobleman something valuable in exchange for their secrets, such as protection, loyalty, or assistance in achieving their goals. This will give them an incentive to reveal their secrets to you.\n",
      "\n",
      "6. Use blackmail: Gather incriminating information about the nobleman and use it as leverage to force them to reveal their secrets. Threaten to expose their secrets if they do not comply with your demands.\n",
      "================================================================================\n",
      "Question 6: What would Moriarty do to dismantle Sherlock’s network?\n",
      "\n",
      "\n",
      "\u001b[1m> Entering new MultiPromptChain chain...\u001b[0m\n",
      "History: {'input': 'What would Moriarty do to dismantle Sherlock’s network?'}\n",
      "\u001b[1m> Finished chain.\u001b[0m\n",
      "Answer 6:\n",
      "Moriarty, being a highly intelligent and cunning criminal mastermind, would likely employ a variety of tactics to dismantle Sherlock's network. Some possible strategies he might use include:\n",
      "\n",
      "1. Infiltration: Moriarty could send in spies or moles to gather information on Sherlock's network and exploit any weaknesses or vulnerabilities.\n",
      "\n",
      "2. Disruption: Moriarty could disrupt communication channels within Sherlock's network, causing confusion and mistrust among its members.\n",
      "\n",
      "3. Sabotage: Moriarty could sabotage key operations or missions within Sherlock's network, causing setbacks and undermining their effectiveness.\n",
      "\n",
      "4. Psychological warfare: Moriarty could use psychological manipulation and mind games to sow discord and division among Sherlock's allies.\n",
      "\n",
      "5. Targeted attacks: Moriarty could target key members of Sherlock's network, either physically or through blackmail or coercion, in order to weaken their resolve and loyalty.\n",
      "\n",
      "Overall, Moriarty would likely use a combination of these tactics to systematically dismantle Sherlock's network and undermine his ability to solve cases and combat crime.\n",
      "================================================================================\n",
      "Question 7: What kind of personality does Irene Adler have?\n",
      "\n",
      "\n",
      "\u001b[1m> Entering new MultiPromptChain chain...\u001b[0m\n",
      "None: {'input': 'What kind of personality does Irene Adler have?'}\n",
      "\u001b[1m> Finished chain.\u001b[0m\n",
      "Answer 7:\n",
      "Irene Adler is often portrayed as intelligent, cunning, and confident. She is known for her quick wit, resourcefulness, and ability to outsmart those around her. She is also depicted as independent, strong-willed, and unafraid to challenge societal norms. Overall, Irene Adler is typically characterized as a complex and intriguing character with a strong and captivating personality.\n",
      "================================================================================\n",
      "Question 8: Who is the most dangerous criminal in London?\n",
      "\n",
      "\n",
      "\u001b[1m> Entering new MultiPromptChain chain...\u001b[0m\n",
      "History: {'input': 'Who is the most dangerous criminal in London?'}\n",
      "\u001b[1m> Finished chain.\u001b[0m\n",
      "Answer 8:\n",
      "As an AI, I do not have the ability to provide real-time information or make subjective judgments. Additionally, determining the most dangerous criminal in London would require access to specific data and expertise in law enforcement. It is important to rely on official sources and authorities for accurate information on criminal activity.\n"
     ]
    }
   ],
   "source": [
    "from langchain.chains import LLMChain\n",
    "from langchain.chains.router import MultiPromptChain\n",
    "from langchain.chains.router.llm_router import LLMRouterChain, RouterOutputParser\n",
    "from langchain.prompts import PromptTemplate, ChatPromptTemplate\n",
    "from langchain_openai import ChatOpenAI\n",
    "\n",
    "# Load LLM\n",
    "llm = ChatOpenAI(temperature=0)\n",
    "\n",
    "# Character-specific prompt templates\n",
    "sherlock_template = \"\"\"You are Sherlock Holmes. \\\n",
    "You are unmatched in logical reasoning, deduction, and forensic science. \\\n",
    "You answer questions with sharp, concise brilliance, often piecing together clues others overlook.\n",
    "\n",
    "Here is a question:\n",
    "{input}\"\"\"\n",
    "\n",
    "watson_template = \"\"\"You are Dr. John Watson. \\\n",
    "You provide thoughtful, medically-informed, and empathetic answers. \\\n",
    "You explain things clearly and add reflective insight.\n",
    "\n",
    "Here is a question:\n",
    "{input}\"\"\"\n",
    "\n",
    "mycroft_template = \"\"\"You are Mycroft Holmes. \\\n",
    "You are brilliant, strategic, and understand government-level intelligence and politics. \\\n",
    "You answer with big-picture insight and minimal emotion.\n",
    "\n",
    "Here is a question:\n",
    "{input}\"\"\"\n",
    "\n",
    "lestrade_template = \"\"\"You are Inspector Lestrade from Scotland Yard. \\\n",
    "You rely on experience, police protocols, and practical investigative skills. \\\n",
    "You speak in a straightforward and professional tone.\n",
    "\n",
    "Here is a question:\n",
    "{input}\"\"\"\n",
    "\n",
    "irene_template = \"\"\"You are Irene Adler. \\\n",
    "You are intelligent, charming, and an expert in psychology and manipulation. \\\n",
    "You answer with elegance, wit, and deep understanding of human behavior.\n",
    "\n",
    "Here is a question:\n",
    "{input}\"\"\"\n",
    "\n",
    "moriarty_template = \"\"\"You are Professor James Moriarty, the criminal mastermind. \\\n",
    "You answer questions with ruthless cunning, strategic genius, and a dark appreciation for chaos. \\\n",
    "You speak with arrogance, always calculating the most efficient outcome, regardless of morality.\n",
    "\n",
    "Here is a question:\n",
    "{input}\"\"\"\n",
    "\n",
    "# Prompt infos\n",
    "prompt_infos = [\n",
    "    {\"name\": \"sherlock\", \"description\": \"Logical deduction, forensic cases\", \"prompt_template\": sherlock_template},\n",
    "    {\"name\": \"watson\", \"description\": \"Medical questions, reflective analysis\", \"prompt_template\": watson_template},\n",
    "    {\"name\": \"mycroft\", \"description\": \"Big-picture thinking, political insight\", \"prompt_template\": mycroft_template},\n",
    "    {\"name\": \"lestrade\", \"description\": \"Police investigations and crime scenes\", \"prompt_template\": lestrade_template},\n",
    "    {\"name\": \"irene\", \"description\": \"Psychology, manipulation, persuasion\", \"prompt_template\": irene_template},\n",
    "    {\"name\": \"moriarty\", \"description\": \"Criminal strategy and manipulation\", \"prompt_template\": moriarty_template},\n",
    "]\n",
    "\n",
    "# Build destination chains\n",
    "destination_chains = {}\n",
    "for p in prompt_infos:\n",
    "    name = p[\"name\"]\n",
    "    prompt = ChatPromptTemplate.from_template(p[\"prompt_template\"])\n",
    "    destination_chains[name] = LLMChain(llm=llm, prompt=prompt)\n",
    "\n",
    "# Router template\n",
    "destinations_str = \"\\n\".join([f\"{p['name']}: {p['description']}\" for p in prompt_infos])\n",
    "ROUTER_TEMPLATE = \"\"\"Given the input, choose the most fitting character to answer it.\n",
    "\n",
    "<< FORMAT >>\n",
    "Return a markdown code block:\n",
    "```json\n",
    "{\n",
    "    \"destination\": string,  // name of the character or \"DEFAULT\"\n",
    "    \"next_inputs\": string   // rephrased question or same input\n",
    "}\n",
    "\"\"\"\n",
    "\n",
    "\n",
    "# Questions \n",
    "questions = [\n",
    "    \"How did Holmes deduce the culprit in the Hound of the Baskervilles?\",\n",
    "    \"What symptoms suggest arsenic poisoning?\",\n",
    "    \"What would Mycroft think of modern surveillance systems?\",\n",
    "    \"How should Lestrade interrogate a repeat offender?\",\n",
    "    \"How can someone manipulate a nobleman into revealing secrets?\",\n",
    "    \"What would Moriarty do to dismantle Sherlock’s network?\",\n",
    "    \"What kind of personality does Irene Adler have?\",\n",
    "    \"Who is the most dangerous criminal in London?\",\n",
    "]\n",
    "\n",
    "#Printing\n",
    "for i, q in enumerate(questions, 1):\n",
    "    print(\"=\" * 80)\n",
    "    print(f\"Question {i}: {q}\")\n",
    "    answer = chain.run(q)\n",
    "    print(f\"Answer {i}:\\n{answer}\")\n"
   ]
  }
 ],
 "metadata": {
  "kernelspec": {
   "display_name": "IronhackCamp",
   "language": "python",
   "name": "python3"
  },
  "language_info": {
   "codemirror_mode": {
    "name": "ipython",
    "version": 3
   },
   "file_extension": ".py",
   "mimetype": "text/x-python",
   "name": "python",
   "nbconvert_exporter": "python",
   "pygments_lexer": "ipython3",
   "version": "3.11.11"
  }
 },
 "nbformat": 4,
 "nbformat_minor": 5
}
